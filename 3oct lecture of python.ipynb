{
 "cells": [
  {
   "cell_type": "markdown",
   "id": "b240e3fd",
   "metadata": {},
   "source": [
    "# Object  Oriented programming \n",
    "\n"
   ]
  },
  {
   "cell_type": "code",
   "execution_count": 1,
   "id": "186392c4",
   "metadata": {},
   "outputs": [
    {
     "ename": "AttributeError",
     "evalue": "'list' object has no attribute 'upper'",
     "output_type": "error",
     "traceback": [
      "\u001b[1;31m---------------------------------------------------------------------------\u001b[0m",
      "\u001b[1;31mAttributeError\u001b[0m                            Traceback (most recent call last)",
      "Cell \u001b[1;32mIn[1], line 2\u001b[0m\n\u001b[0;32m      1\u001b[0m l\u001b[38;5;241m=\u001b[39m[\u001b[38;5;241m1\u001b[39m,\u001b[38;5;241m2\u001b[39m,\u001b[38;5;241m34\u001b[39m,\u001b[38;5;241m5\u001b[39m]\n\u001b[1;32m----> 2\u001b[0m l\u001b[38;5;241m.\u001b[39mupper()\n",
      "\u001b[1;31mAttributeError\u001b[0m: 'list' object has no attribute 'upper'"
     ]
    }
   ],
   "source": [
    "l=[1,2,34,5]\n",
    "l.upper() "
   ]
  },
  {
   "cell_type": "code",
   "execution_count": 2,
   "id": "a6ff7809",
   "metadata": {},
   "outputs": [
    {
     "ename": "SyntaxError",
     "evalue": "invalid syntax (3306232287.py, line 3)",
     "output_type": "error",
     "traceback": [
      "\u001b[1;36m  Cell \u001b[1;32mIn[2], line 3\u001b[1;36m\u001b[0m\n\u001b[1;33m    str.()\u001b[0m\n\u001b[1;37m        ^\u001b[0m\n\u001b[1;31mSyntaxError\u001b[0m\u001b[1;31m:\u001b[0m invalid syntax\n"
     ]
    }
   ],
   "source": [
    "str=\"HFssod\"\n",
    "str.append()\n",
    "str.()\n"
   ]
  },
  {
   "cell_type": "code",
   "execution_count": 3,
   "id": "d6aba429",
   "metadata": {},
   "outputs": [
    {
     "name": "stdout",
     "output_type": "stream",
     "text": [
      "<class 'int'>\n"
     ]
    }
   ],
   "source": [
    "a=12\n",
    "print(type(a))\n",
    "#integer data type class \n",
    "#a=   object\n"
   ]
  },
  {
   "cell_type": "markdown",
   "id": "841aa2cb",
   "metadata": {},
   "source": [
    "Note :List and str are both objects \n",
    "    Everything in python is object\n",
    "    Data type is class and when we create a variable of that datatype:Its an object"
   ]
  },
  {
   "cell_type": "code",
   "execution_count": 4,
   "id": "cc09c9ac",
   "metadata": {},
   "outputs": [
    {
     "data": {
      "text/plain": [
       "['h', 'i']"
      ]
     },
     "execution_count": 4,
     "metadata": {},
     "output_type": "execute_result"
    }
   ],
   "source": [
    "l=list(\"hi\")\n",
    "l"
   ]
  },
  {
   "cell_type": "markdown",
   "id": "955f791e",
   "metadata": {},
   "source": [
    "# Difference between function and methods:\n",
    "# Methods:Function written inside the class\n",
    "The Way both are called are different.\n",
    "    "
   ]
  },
  {
   "cell_type": "code",
   "execution_count": 5,
   "id": "c165759f",
   "metadata": {},
   "outputs": [
    {
     "data": {
      "text/plain": [
       "[1, 2, 3, 4, 5]"
      ]
     },
     "execution_count": 5,
     "metadata": {},
     "output_type": "execute_result"
    }
   ],
   "source": [
    "l=list([1,2,3,4,5])\n",
    "l"
   ]
  },
  {
   "cell_type": "code",
   "execution_count": 6,
   "id": "5744dd0d",
   "metadata": {},
   "outputs": [
    {
     "data": {
      "text/plain": [
       "5"
      ]
     },
     "execution_count": 6,
     "metadata": {},
     "output_type": "execute_result"
    }
   ],
   "source": [
    "len(l)"
   ]
  },
  {
   "cell_type": "code",
   "execution_count": 7,
   "id": "d2e0ead8",
   "metadata": {},
   "outputs": [],
   "source": [
    "l.append([21])  #append is a function defined inside  list class"
   ]
  },
  {
   "cell_type": "code",
   "execution_count": 8,
   "id": "8e39672e",
   "metadata": {},
   "outputs": [
    {
     "data": {
      "text/plain": [
       "[1, 2, 3, 4, 5, [21]]"
      ]
     },
     "execution_count": 8,
     "metadata": {},
     "output_type": "execute_result"
    }
   ],
   "source": [
    "l"
   ]
  },
  {
   "cell_type": "code",
   "execution_count": 9,
   "id": "cc4d3903",
   "metadata": {},
   "outputs": [
    {
     "data": {
      "text/plain": [
       "[3, 12, 12, 21, 24]"
      ]
     },
     "execution_count": 9,
     "metadata": {},
     "output_type": "execute_result"
    }
   ],
   "source": [
    "d=[12,3,24,21,12]\n",
    "d.sort()\n",
    "d"
   ]
  },
  {
   "cell_type": "code",
   "execution_count": 10,
   "id": "536db0bf",
   "metadata": {},
   "outputs": [
    {
     "data": {
      "text/plain": [
       "[1, 2, 3, 4, 5, [21]]"
      ]
     },
     "execution_count": 10,
     "metadata": {},
     "output_type": "execute_result"
    }
   ],
   "source": [
    "#l.clear()\n",
    "l"
   ]
  },
  {
   "cell_type": "markdown",
   "id": "9ebd243e",
   "metadata": {},
   "source": [
    "## function created inside a class is called method \n",
    " "
   ]
  },
  {
   "cell_type": "markdown",
   "id": "8096c62b",
   "metadata": {},
   "source": [
    "Class(Set of rules )and Object (follows all rules)\n",
    "A class is a user-defined blueprint or prototype from which objects are created\n",
    "Classes provide a means of building data and functionality together\n",
    "\n",
    "class :data or property (description of the object)\n",
    "    Functions and behavior(work of object)"
   ]
  },
  {
   "cell_type": "markdown",
   "id": "c7045590",
   "metadata": {},
   "source": [
    "class ClassName:\n",
    "   #statement\n",
    "    "
   ]
  },
  {
   "cell_type": "markdown",
   "id": "d433f4cc",
   "metadata": {},
   "source": [
    "object=classname()\n",
    "eh:list()\n",
    "    "
   ]
  },
  {
   "cell_type": "markdown",
   "id": "80d318f3",
   "metadata": {},
   "source": [
    "obj=ClassName()\n",
    "eg:list()"
   ]
  },
  {
   "cell_type": "markdown",
   "id": "673b868d",
   "metadata": {},
   "source": [
    "----->wagonr=car()\n",
    "      object=class()"
   ]
  },
  {
   "cell_type": "code",
   "execution_count": 11,
   "id": "1db776f6",
   "metadata": {},
   "outputs": [],
   "source": [
    "class greet:\n",
    "    def __init__(self):     #constructor or magic method also know as dunder method\n",
    "        print(\"Hello all\")\n",
    "        self.Hello()\n",
    "    def Hello(self):  \n",
    "        print(\"Hi\")"
   ]
  },
  {
   "cell_type": "code",
   "execution_count": 12,
   "id": "4f03cca7",
   "metadata": {},
   "outputs": [
    {
     "name": "stdout",
     "output_type": "stream",
     "text": [
      "Hello all\n",
      "Hi\n"
     ]
    }
   ],
   "source": [
    "s=greet()"
   ]
  },
  {
   "cell_type": "code",
   "execution_count": 13,
   "id": "f9744b69",
   "metadata": {},
   "outputs": [
    {
     "name": "stdout",
     "output_type": "stream",
     "text": [
      "Hello all\n",
      "Hi\n"
     ]
    },
    {
     "data": {
      "text/plain": [
       "<__main__.greet at 0x2789d1c6f50>"
      ]
     },
     "execution_count": 13,
     "metadata": {},
     "output_type": "execute_result"
    }
   ],
   "source": [
    "greet()"
   ]
  },
  {
   "cell_type": "code",
   "execution_count": 14,
   "id": "a69bd5ba",
   "metadata": {},
   "outputs": [],
   "source": [
    "class Atm:\n",
    "    def __init__(self):\n",
    "        self.pin=''\n",
    "        self.balance=10\n",
    "        self.menu()\n",
    "    def menu(self):\n",
    "        print(\"Hi\")\n",
    "        "
   ]
  },
  {
   "cell_type": "code",
   "execution_count": null,
   "id": "0e2da774",
   "metadata": {},
   "outputs": [],
   "source": []
  },
  {
   "cell_type": "markdown",
   "id": "bd7d5470",
   "metadata": {},
   "source": [
    "# Constructor:Special method or magic or thunder\n",
    "    (code inside the constructor gets excecuted as soon as a  object is created)"
   ]
  },
  {
   "cell_type": "markdown",
   "id": "0e7c5e05",
   "metadata": {},
   "source": [
    "# Magic methods in python :No need of object to call these methods\n",
    "    https://www.tutorialsteacher.com/python/magic-methods-in-python"
   ]
  },
  {
   "cell_type": "code",
   "execution_count": 15,
   "id": "8fc0545e",
   "metadata": {},
   "outputs": [],
   "source": [
    "class Atm:\n",
    "    def __init__(self):\n",
    "        self.pin=''\n",
    "        self.balance=10\n",
    "        print(id(self))\n",
    "        self.menu()\n",
    "    def menu(self):\n",
    "        pass"
   ]
  },
  {
   "cell_type": "code",
   "execution_count": 16,
   "id": "bc35946d",
   "metadata": {},
   "outputs": [
    {
     "name": "stdout",
     "output_type": "stream",
     "text": [
      "2717047184912\n"
     ]
    }
   ],
   "source": [
    "sbi=Atm()"
   ]
  },
  {
   "cell_type": "code",
   "execution_count": 17,
   "id": "52e6b276",
   "metadata": {},
   "outputs": [
    {
     "name": "stdout",
     "output_type": "stream",
     "text": [
      "2717054788304\n"
     ]
    },
    {
     "data": {
      "text/plain": [
       "<__main__.Atm at 0x2789d15e2d0>"
      ]
     },
     "execution_count": 17,
     "metadata": {},
     "output_type": "execute_result"
    }
   ],
   "source": [
    "Atm()"
   ]
  },
  {
   "cell_type": "code",
   "execution_count": 18,
   "id": "8c05b24b",
   "metadata": {},
   "outputs": [
    {
     "name": "stdout",
     "output_type": "stream",
     "text": [
      "2717054941520\n"
     ]
    }
   ],
   "source": [
    "yes=Atm()"
   ]
  },
  {
   "cell_type": "markdown",
   "id": "2721b360",
   "metadata": {},
   "source": [
    "what is self and why do we need it?\n",
    "\n",
    "Both self and yes are same i.e axis(object ) is the self.\n",
    "Class has data and functions and can be accessed by the objects of that class Two methods of the same class cannot call each other and hence the object is needed.\n",
    "Self is the current object.\n"
   ]
  },
  {
   "cell_type": "code",
   "execution_count": 19,
   "id": "38f8ccfd",
   "metadata": {},
   "outputs": [],
   "source": [
    "class fraction:\n",
    "    def __init__(self,n,d):\n",
    "        self.num=n\n",
    "        self.den=d"
   ]
  },
  {
   "cell_type": "code",
   "execution_count": 20,
   "id": "094ba2ed",
   "metadata": {},
   "outputs": [
    {
     "data": {
      "text/plain": [
       "<__main__.fraction at 0x2789ca1f590>"
      ]
     },
     "execution_count": 20,
     "metadata": {},
     "output_type": "execute_result"
    }
   ],
   "source": [
    "n=fraction(3,4)\n",
    "n"
   ]
  },
  {
   "cell_type": "code",
   "execution_count": 21,
   "id": "fb65bb19",
   "metadata": {},
   "outputs": [],
   "source": [
    "class fraction:\n",
    "    def __init__(self,n,d):\n",
    "        self.num=n\n",
    "        self.den=d\n",
    "    def __str__(self):\n",
    "        return \"{}/{}\".format(self.num,self.den)\n",
    "    def __add__(self,other):\n",
    "        temp_num=self.num*other.den+self.den*other.num\n",
    "        temp_den=other.den*self.den\n",
    "        return \"{}/{}\".format(temp_num,temp_den)\n",
    "    def __sub__(self,other):\n",
    "        temp_num=self.num*other.den-self.den*other.num\n",
    "        temp_den=other.den*self.den\n",
    "        return \"{}/{}\".format(temp_num,temp_den)\n",
    "    def __mul__(self,other):\n",
    "        temp_num=self.num*other.num\n",
    "        temp_den=other.den*other.den\n",
    "        return \"{}/{}\".format(temp_num,temp_den)\n",
    "    def __truediv__(self,other):\n",
    "        temp_num=self.num*other.den\n",
    "        temp_den=self.den*other.num\n",
    "        return \"{}/{}\".format(temp_num,temp_den)\n",
    "                      "
   ]
  },
  {
   "cell_type": "code",
   "execution_count": 22,
   "id": "9d7fe9f4",
   "metadata": {},
   "outputs": [],
   "source": [
    "\n",
    "a=fraction(4,2)\n",
    "b=fraction(12,2)"
   ]
  },
  {
   "cell_type": "code",
   "execution_count": 23,
   "id": "62763f53",
   "metadata": {},
   "outputs": [
    {
     "name": "stdout",
     "output_type": "stream",
     "text": [
      "32/4\n",
      "-16/4\n",
      "48/4\n",
      "8/24\n"
     ]
    }
   ],
   "source": [
    "print(a+b)\n",
    "print(a-b)\n",
    "print(a*b)\n",
    "print(a/b)"
   ]
  },
  {
   "cell_type": "code",
   "execution_count": 95,
   "id": "2f66e066",
   "metadata": {},
   "outputs": [],
   "source": [
    "class Atm:\n",
    "    def __init__(self):\n",
    "        self.__pin=''\n",
    "        self.balance=0\n",
    "        self.menu()\n",
    "        \n",
    "  #  def get_pin(self):\n",
    "  #      return self.__pin\n",
    "    \n",
    "  #  def set_pin(self,new_pin):\n",
    "  #      self.__pin=new_pin\n",
    "  #      print(\"pin changed\")\n",
    "    \n",
    "    def menu(self):\n",
    "        user=input('''Enter a condition which you want?\n",
    "        1.Enter 1 to create a pin\n",
    "        2.Enter 2 to deposit\n",
    "        3.Enter 3 to withdraw\n",
    "        4.Enter 4 to check balance\n",
    "        5.Enter 5 to exit\n",
    "        ''')\n",
    "        \n",
    "        if user=='1':\n",
    "            self.create_pin()\n",
    "        elif user=='2':\n",
    "            self.deposit()\n",
    "        elif user=='3':\n",
    "            self.withdraw()\n",
    "        elif user=='4':\n",
    "            self.check_balance()\n",
    "        else:\n",
    "            print(\"exit\")\n",
    "    def create_pin(self):\n",
    "        self.pin=input(\"Enter a your pin :\")\n",
    "        print(\"Pin set successfully\")\n",
    "    def deposit(self):\n",
    "        temp=input(\"Enter your pin :\")\n",
    "        if temp==self.pin:\n",
    "            amount=int(input(\"Enter the amount please:\"))\n",
    "            self.balance=self.balance+amount\n",
    "            print(\"Deposit successfull\")\n",
    "        else:\n",
    "            print(\"Invalid pin\")\n",
    "            \n",
    "    def withdraw(self):\n",
    "        temp=input(\"Enter your pin :\")\n",
    "        if temp==self.pin:\n",
    "            amount=int(input(\"Enter the amount please:\"))\n",
    "            if amount<self.balance:\n",
    "                self.balance=self.balance-amount\n",
    "                print(\"Operation successfull\")\n",
    "            else:\n",
    "                print(\"Insufficient fund\")\n",
    "                \n",
    "        else:\n",
    "                print(\"Invalid pin\")\n",
    "    def check_balance(self):\n",
    "        temp=input(\"Enter your pin :\")\n",
    "        if temp==self.pin:\n",
    "            print(self.balance)\n",
    "        else:\n",
    "            print(\"Your pin is wrong\")\n",
    "            \n",
    "        \n",
    "        \n",
    "     \n",
    "    "
   ]
  },
  {
   "cell_type": "code",
   "execution_count": null,
   "id": "ca5f1c2b",
   "metadata": {},
   "outputs": [],
   "source": []
  },
  {
   "cell_type": "code",
   "execution_count": 85,
   "id": "4c7c5c32",
   "metadata": {},
   "outputs": [
    {
     "name": "stdout",
     "output_type": "stream",
     "text": [
      "Enter a condition which you want?\n",
      "        1.Enter 1 to create a pin\n",
      "        2.Enter 2 to deposit\n",
      "        3.Enter 3 to withdraw\n",
      "        4.Enter 4 to check balance\n",
      "        5.Enter 5 to exit\n",
      "        1\n",
      "Enter a your pin :9000\n",
      "Pin set successfully\n"
     ]
    }
   ],
   "source": [
    "sbi=Atm()"
   ]
  },
  {
   "cell_type": "code",
   "execution_count": 86,
   "id": "92cf8fa9",
   "metadata": {},
   "outputs": [
    {
     "name": "stdout",
     "output_type": "stream",
     "text": [
      "Enter your pin :9000\n",
      "0\n"
     ]
    }
   ],
   "source": [
    "sbi.check_balance()"
   ]
  },
  {
   "cell_type": "code",
   "execution_count": 87,
   "id": "b98a43d5",
   "metadata": {},
   "outputs": [
    {
     "name": "stdout",
     "output_type": "stream",
     "text": [
      "Enter your pin :9000\n",
      "Enter the amount please:548483\n",
      "Deposit successfull\n"
     ]
    }
   ],
   "source": [
    "sbi.deposit()"
   ]
  },
  {
   "cell_type": "code",
   "execution_count": 88,
   "id": "b2a3306d",
   "metadata": {},
   "outputs": [
    {
     "name": "stdout",
     "output_type": "stream",
     "text": [
      "Enter your pin :9000\n",
      "Enter the amount please:13321\n",
      "Operation successfull\n"
     ]
    }
   ],
   "source": [
    "sbi.withdraw()"
   ]
  },
  {
   "cell_type": "code",
   "execution_count": 89,
   "id": "617cc44f",
   "metadata": {},
   "outputs": [
    {
     "name": "stdout",
     "output_type": "stream",
     "text": [
      "Enter your pin :9000\n",
      "535162\n"
     ]
    }
   ],
   "source": [
    "sbi.check_balance()\n"
   ]
  },
  {
   "cell_type": "code",
   "execution_count": 92,
   "id": "ffc70c26",
   "metadata": {},
   "outputs": [
    {
     "data": {
      "text/plain": [
       "''"
      ]
     },
     "execution_count": 92,
     "metadata": {},
     "output_type": "execute_result"
    }
   ],
   "source": [
    "sbi.get_pin()\n"
   ]
  },
  {
   "cell_type": "code",
   "execution_count": 93,
   "id": "70c2891e",
   "metadata": {},
   "outputs": [
    {
     "name": "stdout",
     "output_type": "stream",
     "text": [
      "pin changed\n"
     ]
    }
   ],
   "source": [
    "sbi.set_pin(7000)"
   ]
  },
  {
   "cell_type": "code",
   "execution_count": 94,
   "id": "6f7367ad",
   "metadata": {},
   "outputs": [
    {
     "data": {
      "text/plain": [
       "7000"
      ]
     },
     "execution_count": 94,
     "metadata": {},
     "output_type": "execute_result"
    }
   ],
   "source": [
    "sbi.get_pin()"
   ]
  },
  {
   "cell_type": "code",
   "execution_count": null,
   "id": "4bf8d81d",
   "metadata": {},
   "outputs": [],
   "source": []
  },
  {
   "cell_type": "code",
   "execution_count": null,
   "id": "24e539f2",
   "metadata": {},
   "outputs": [],
   "source": []
  },
  {
   "cell_type": "code",
   "execution_count": null,
   "id": "6da6a65e",
   "metadata": {},
   "outputs": [],
   "source": []
  }
 ],
 "metadata": {
  "kernelspec": {
   "display_name": "Python 3 (ipykernel)",
   "language": "python",
   "name": "python3"
  },
  "language_info": {
   "codemirror_mode": {
    "name": "ipython",
    "version": 3
   },
   "file_extension": ".py",
   "mimetype": "text/x-python",
   "name": "python",
   "nbconvert_exporter": "python",
   "pygments_lexer": "ipython3",
   "version": "3.11.4"
  }
 },
 "nbformat": 4,
 "nbformat_minor": 5
}
